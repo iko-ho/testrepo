{
 "cells": [
  {
   "cell_type": "markdown",
   "id": "4f65edb4-65f6-4aa7-9638-848864cc4c84",
   "metadata": {},
   "source": [
    "# Data Science Tools and Ecosystem"
   ]
  },
  {
   "cell_type": "markdown",
   "id": "2bb1759a-a011-4af8-8638-87276081952e",
   "metadata": {},
   "source": [
    "In this notebook, Data Science Tools and Ecosystem are summarized."
   ]
  },
  {
   "cell_type": "markdown",
   "id": "1147a9e2-d77f-4597-864a-f5df54dea7f0",
   "metadata": {},
   "source": [
    "**Objectives:**\n",
    "* Python\n",
    "* R\n",
    "* SQL\n",
    "* Scala\n",
    "* Julia"
   ]
  },
  {
   "cell_type": "markdown",
   "id": "9ba50b3b-fbee-4da5-82da-353b6fb7da52",
   "metadata": {},
   "source": [
    "Some of the popular languages that Data Scientists use are:\n",
    "1. Python\n",
    "2. R\n",
    "3. SQL"
   ]
  },
  {
   "cell_type": "markdown",
   "id": "328dc3f2-a2bd-4556-9170-7f30781fceea",
   "metadata": {},
   "source": [
    "Some of the commonly used libraries used by Data Scientists include:\n",
    "1. NunPy\n",
    "2. Pandas\n",
    "3. Scikit-learn"
   ]
  },
  {
   "cell_type": "markdown",
   "id": "f835166a-4a24-4210-8aa9-57234927adc1",
   "metadata": {},
   "source": [
    "|Data Science Tools      |\n",
    "|------------------------|\n",
    "|Jupiyer Notebooks/Lab   |\n",
    "|RStudio                 |\n",
    "|VSCode                  |"
   ]
  },
  {
   "cell_type": "markdown",
   "id": "f70407d6-d038-4a34-80a1-8f043c05da97",
   "metadata": {},
   "source": [
    "### Below are a few examples of evaluating arithmetic expressions in Python"
   ]
  },
  {
   "cell_type": "code",
   "execution_count": 23,
   "id": "82210717-1e05-48cc-927e-c8cdeea4e07a",
   "metadata": {},
   "outputs": [
    {
     "data": {
      "text/plain": [
       "17"
      ]
     },
     "execution_count": 23,
     "metadata": {},
     "output_type": "execute_result"
    }
   ],
   "source": [
    "# This a simple arithmetic expression to mutiply then add integers\n",
    "(3*4)+5"
   ]
  },
  {
   "cell_type": "code",
   "execution_count": 25,
   "id": "20413ce8-e296-4b5e-8be1-0f2e57775cb9",
   "metadata": {},
   "outputs": [
    {
     "data": {
      "text/plain": [
       "3.3333333333333335"
      ]
     },
     "execution_count": 25,
     "metadata": {},
     "output_type": "execute_result"
    }
   ],
   "source": [
    "# This will convert 200 minutes to hours by diving by 60\n",
    "200/60"
   ]
  },
  {
   "cell_type": "markdown",
   "id": "8531aa27-e55d-4243-a3ec-7ba8bca8307e",
   "metadata": {},
   "source": [
    "## Author\n",
    "**Iko**"
   ]
  },
  {
   "cell_type": "code",
   "execution_count": null,
   "id": "e6574c35-35b8-489a-bcf9-e34bb119f195",
   "metadata": {},
   "outputs": [],
   "source": []
  }
 ],
 "metadata": {
  "kernelspec": {
   "display_name": "Python [conda env:base] *",
   "language": "python",
   "name": "conda-base-py"
  },
  "language_info": {
   "codemirror_mode": {
    "name": "ipython",
    "version": 3
   },
   "file_extension": ".py",
   "mimetype": "text/x-python",
   "name": "python",
   "nbconvert_exporter": "python",
   "pygments_lexer": "ipython3",
   "version": "3.12.7"
  }
 },
 "nbformat": 4,
 "nbformat_minor": 5
}
